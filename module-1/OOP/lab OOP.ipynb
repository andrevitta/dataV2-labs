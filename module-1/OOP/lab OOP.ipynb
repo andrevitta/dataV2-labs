{
 "cells": [
  {
   "cell_type": "code",
   "execution_count": 307,
   "metadata": {},
   "outputs": [],
   "source": [
    "class cafe:\n",
    "    \n",
    "    # global variables \n",
    "    waiter='rude'\n",
    "    basic_menu={'cafe':2,'beer':5,'burger':11.5}\n",
    "    Number_of_tables=2\n",
    "    money_t0=0\n",
    "    \n",
    "    # atributes\n",
    "    def __init__(self,name,Ntables=Number_of_tables,basic_menu=basic_menu,money=money_t0,waiter=waiter):\n",
    "        self.name = name\n",
    "        self.Number_of_tables= Ntables\n",
    "        self.menu=basic_menu\n",
    "        self.balance=money\n",
    "        self.waiter=waiter\n",
    "        \n",
    "        \n",
    "    # methods\n",
    "    def addMenu(self,new_item):\n",
    "        self.menu.update(new_item)\n",
    "    \n",
    "    def check(self,order):\n",
    "        \n",
    "        check = sum([self.menu[i] for i in order])\n",
    "        self.balance+=check\n",
    "        \n",
    "        return check \n",
    "                \n",
    "    def call_waiter(self):\n",
    "        if self.waiter=='rude':\n",
    "            print ( 'J\\'arrive!!!!!')\n",
    "        else:\n",
    "            print('Waiter arrived')\n",
    "    \n",
    "    def menu_reajustment(self,percentage):\n",
    "        \n",
    "        for i in self.menu.keys():\n",
    "            self.menu[i]=round ( self.menu[i]*(percentage+1),2)\n",
    "        "
   ]
  },
  {
   "cell_type": "code",
   "execution_count": 308,
   "metadata": {},
   "outputs": [],
   "source": [
    "lecafe=cafe('Le Cafe Populaire')"
   ]
  },
  {
   "cell_type": "code",
   "execution_count": 309,
   "metadata": {},
   "outputs": [
    {
     "data": {
      "text/plain": [
       "{'cafe': 2, 'beer': 5, 'burger': 11.5}"
      ]
     },
     "execution_count": 309,
     "metadata": {},
     "output_type": "execute_result"
    }
   ],
   "source": [
    "lecafe.menu"
   ]
  },
  {
   "cell_type": "code",
   "execution_count": 310,
   "metadata": {},
   "outputs": [],
   "source": [
    "lecafe.addMenu({'Pain au chocolat':3})"
   ]
  },
  {
   "cell_type": "code",
   "execution_count": 311,
   "metadata": {},
   "outputs": [
    {
     "data": {
      "text/plain": [
       "{'cafe': 2, 'beer': 5, 'burger': 11.5, 'Pain au chocolat': 3}"
      ]
     },
     "execution_count": 311,
     "metadata": {},
     "output_type": "execute_result"
    }
   ],
   "source": [
    "lecafe.menu"
   ]
  },
  {
   "cell_type": "code",
   "execution_count": 312,
   "metadata": {},
   "outputs": [
    {
     "data": {
      "text/plain": [
       "2"
      ]
     },
     "execution_count": 312,
     "metadata": {},
     "output_type": "execute_result"
    }
   ],
   "source": [
    "lecafe.Number_of_tables"
   ]
  },
  {
   "cell_type": "code",
   "execution_count": 313,
   "metadata": {},
   "outputs": [
    {
     "data": {
      "text/plain": [
       "0"
      ]
     },
     "execution_count": 313,
     "metadata": {},
     "output_type": "execute_result"
    }
   ],
   "source": [
    "lecafe.balance"
   ]
  },
  {
   "cell_type": "code",
   "execution_count": 314,
   "metadata": {},
   "outputs": [
    {
     "data": {
      "text/plain": [
       "13.5"
      ]
     },
     "execution_count": 314,
     "metadata": {},
     "output_type": "execute_result"
    }
   ],
   "source": [
    "lecafe.check(['cafe','burger'])"
   ]
  },
  {
   "cell_type": "code",
   "execution_count": 315,
   "metadata": {},
   "outputs": [
    {
     "data": {
      "text/plain": [
       "2"
      ]
     },
     "execution_count": 315,
     "metadata": {},
     "output_type": "execute_result"
    }
   ],
   "source": [
    "lecafe.menu['cafe']"
   ]
  },
  {
   "cell_type": "code",
   "execution_count": 316,
   "metadata": {},
   "outputs": [
    {
     "data": {
      "text/plain": [
       "13.5"
      ]
     },
     "execution_count": 316,
     "metadata": {},
     "output_type": "execute_result"
    }
   ],
   "source": [
    "lecafe.balance"
   ]
  },
  {
   "cell_type": "code",
   "execution_count": 317,
   "metadata": {},
   "outputs": [
    {
     "name": "stdout",
     "output_type": "stream",
     "text": [
      "J'arrive!!!!!\n"
     ]
    }
   ],
   "source": [
    "lecafe.call_waiter()"
   ]
  },
  {
   "cell_type": "code",
   "execution_count": 318,
   "metadata": {},
   "outputs": [
    {
     "data": {
      "text/plain": [
       "{'cafe': 2, 'beer': 5, 'burger': 11.5, 'Pain au chocolat': 3}"
      ]
     },
     "execution_count": 318,
     "metadata": {},
     "output_type": "execute_result"
    }
   ],
   "source": [
    "lecafe.menu"
   ]
  },
  {
   "cell_type": "code",
   "execution_count": 319,
   "metadata": {},
   "outputs": [],
   "source": [
    "lecafe.menu_reajustment(0.1)"
   ]
  },
  {
   "cell_type": "code",
   "execution_count": 320,
   "metadata": {},
   "outputs": [
    {
     "data": {
      "text/plain": [
       "{'cafe': 2.2, 'beer': 5.5, 'burger': 12.65, 'Pain au chocolat': 3.3}"
      ]
     },
     "execution_count": 320,
     "metadata": {},
     "output_type": "execute_result"
    }
   ],
   "source": [
    "lecafe.menu"
   ]
  },
  {
   "cell_type": "code",
   "execution_count": 321,
   "metadata": {},
   "outputs": [
    {
     "name": "stdout",
     "output_type": "stream",
     "text": [
      "20.35\n"
     ]
    }
   ],
   "source": [
    "print ( lecafe.check(['cafe','burger','beer']))"
   ]
  },
  {
   "cell_type": "code",
   "execution_count": 322,
   "metadata": {},
   "outputs": [
    {
     "data": {
      "text/plain": [
       "33.85"
      ]
     },
     "execution_count": 322,
     "metadata": {},
     "output_type": "execute_result"
    }
   ],
   "source": [
    "lecafe.balance"
   ]
  },
  {
   "cell_type": "code",
   "execution_count": 323,
   "metadata": {},
   "outputs": [
    {
     "data": {
      "text/plain": [
       "20.35"
      ]
     },
     "execution_count": 323,
     "metadata": {},
     "output_type": "execute_result"
    }
   ],
   "source": [
    "lecafe.check(['cafe','burger','beer'])"
   ]
  },
  {
   "cell_type": "code",
   "execution_count": 324,
   "metadata": {},
   "outputs": [
    {
     "data": {
      "text/plain": [
       "54.2"
      ]
     },
     "execution_count": 324,
     "metadata": {},
     "output_type": "execute_result"
    }
   ],
   "source": [
    "lecafe.balance"
   ]
  },
  {
   "cell_type": "code",
   "execution_count": 370,
   "metadata": {},
   "outputs": [],
   "source": [
    "class branchcafe(cafe):\n",
    "\n",
    "    waiter='helpfull'\n",
    "    Number_of_tables=4\n",
    "    Tbalance=0\n",
    "    \n",
    "    def __init__(self,waiter=waiter,NoT=Number_of_tables,Tbalance=Tbalance):\n",
    "        \n",
    "        self.Number_of_tables=NoT\n",
    "        self.tips_balance=Tbalance\n",
    "    \n",
    "    def  calculateTip(self,value,check):\n",
    "    \n",
    "        tips = check*(1-value)\n",
    "        self.balance+=tips\n",
    "        return tips\n",
    "        "
   ]
  },
  {
   "cell_type": "code",
   "execution_count": 371,
   "metadata": {},
   "outputs": [],
   "source": [
    "lecafe2=branchcafe('Cafe Pietro')"
   ]
  },
  {
   "cell_type": "code",
   "execution_count": 372,
   "metadata": {},
   "outputs": [
    {
     "ename": "AttributeError",
     "evalue": "'branchcafe' object has no attribute 'name'",
     "output_type": "error",
     "traceback": [
      "\u001b[1;31m---------------------------------------------------------------------------\u001b[0m",
      "\u001b[1;31mAttributeError\u001b[0m                            Traceback (most recent call last)",
      "\u001b[1;32m<ipython-input-372-46a8123e7dd4>\u001b[0m in \u001b[0;36m<module>\u001b[1;34m\u001b[0m\n\u001b[1;32m----> 1\u001b[1;33m \u001b[0mlecafe2\u001b[0m\u001b[1;33m.\u001b[0m\u001b[0mname\u001b[0m\u001b[1;33m\u001b[0m\u001b[1;33m\u001b[0m\u001b[0m\n\u001b[0m",
      "\u001b[1;31mAttributeError\u001b[0m: 'branchcafe' object has no attribute 'name'"
     ]
    }
   ],
   "source": [
    "lecafe2.name"
   ]
  },
  {
   "cell_type": "code",
   "execution_count": 373,
   "metadata": {},
   "outputs": [
    {
     "name": "stdout",
     "output_type": "stream",
     "text": [
      "Waiter arrived\n"
     ]
    }
   ],
   "source": [
    "lecafe2.call_waiter()"
   ]
  },
  {
   "cell_type": "code",
   "execution_count": 374,
   "metadata": {},
   "outputs": [
    {
     "data": {
      "text/plain": [
       "20.35"
      ]
     },
     "execution_count": 374,
     "metadata": {},
     "output_type": "execute_result"
    }
   ],
   "source": [
    "lecafe.check(['cafe','burger','beer'])"
   ]
  },
  {
   "cell_type": "code",
   "execution_count": 375,
   "metadata": {},
   "outputs": [
    {
     "ename": "TypeError",
     "evalue": "calculateTip() missing 1 required positional argument: 'check'",
     "output_type": "error",
     "traceback": [
      "\u001b[1;31m---------------------------------------------------------------------------\u001b[0m",
      "\u001b[1;31mTypeError\u001b[0m                                 Traceback (most recent call last)",
      "\u001b[1;32m<ipython-input-375-fd6708c82ccf>\u001b[0m in \u001b[0;36m<module>\u001b[1;34m\u001b[0m\n\u001b[1;32m----> 1\u001b[1;33m \u001b[0mlecafe2\u001b[0m\u001b[1;33m.\u001b[0m\u001b[0mcalculateTip\u001b[0m\u001b[1;33m(\u001b[0m\u001b[0mlecafe\u001b[0m\u001b[1;33m.\u001b[0m\u001b[0mcheck\u001b[0m\u001b[1;33m(\u001b[0m\u001b[1;33m[\u001b[0m\u001b[1;34m'cafe'\u001b[0m\u001b[1;33m,\u001b[0m\u001b[1;34m'burger'\u001b[0m\u001b[1;33m,\u001b[0m\u001b[1;34m'beer'\u001b[0m\u001b[1;33m]\u001b[0m\u001b[1;33m)\u001b[0m\u001b[1;33m)\u001b[0m\u001b[1;33m\u001b[0m\u001b[1;33m\u001b[0m\u001b[0m\n\u001b[0m",
      "\u001b[1;31mTypeError\u001b[0m: calculateTip() missing 1 required positional argument: 'check'"
     ]
    }
   ],
   "source": [
    "lecafe2.calculateTip(lecafe.check(['cafe','burger','beer']))"
   ]
  },
  {
   "cell_type": "code",
   "execution_count": null,
   "metadata": {},
   "outputs": [],
   "source": []
  },
  {
   "cell_type": "code",
   "execution_count": null,
   "metadata": {},
   "outputs": [],
   "source": []
  }
 ],
 "metadata": {
  "kernelspec": {
   "display_name": "Python 3",
   "language": "python",
   "name": "python3"
  },
  "language_info": {
   "codemirror_mode": {
    "name": "ipython",
    "version": 3
   },
   "file_extension": ".py",
   "mimetype": "text/x-python",
   "name": "python",
   "nbconvert_exporter": "python",
   "pygments_lexer": "ipython3",
   "version": "3.7.4"
  }
 },
 "nbformat": 4,
 "nbformat_minor": 2
}

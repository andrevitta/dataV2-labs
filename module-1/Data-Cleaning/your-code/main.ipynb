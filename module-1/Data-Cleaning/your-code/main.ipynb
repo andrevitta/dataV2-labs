{
 "cells": [
  {
   "cell_type": "markdown",
   "metadata": {},
   "source": [
    "# Data Cleaning \n",
    "\n",
    "#### 1. Import pandas library."
   ]
  },
  {
   "cell_type": "code",
   "execution_count": 6,
   "metadata": {},
   "outputs": [],
   "source": [
    "import pandas as pd"
   ]
  },
  {
   "cell_type": "markdown",
   "metadata": {},
   "source": [
    "#### 2. Import pymysql and sqlalchemy as you have learnt in the lesson of importing/exporting data. \n"
   ]
  },
  {
   "cell_type": "code",
   "execution_count": 7,
   "metadata": {},
   "outputs": [],
   "source": [
    "import pymysql \n",
    "from sqlalchemy import create_engine"
   ]
  },
  {
   "cell_type": "markdown",
   "metadata": {},
   "source": [
    "#### 3. Create a mysql engine to set the connection to the server. Check the connection details in [this link](https://relational.fit.cvut.cz/dataset/Stats)."
   ]
  },
  {
   "cell_type": "code",
   "execution_count": 8,
   "metadata": {},
   "outputs": [],
   "source": [
    "username='guest'\n",
    "password ='relational'\n",
    "host = 'relational.fit.cvut.cz:3306'\n",
    "database ='stats'\n",
    "engine = create_engine(f\"\"\"mysql+pymysql://{username}:{password}@{host}/{database}\"\"\")"
   ]
  },
  {
   "cell_type": "markdown",
   "metadata": {},
   "source": [
    "#### 4. Import the users table."
   ]
  },
  {
   "cell_type": "code",
   "execution_count": 40,
   "metadata": {},
   "outputs": [],
   "source": [
    "df_userid = pd.read_sql_query('SELECT * FROM stats.users', engine)"
   ]
  },
  {
   "cell_type": "markdown",
   "metadata": {},
   "source": [
    "#### 5. Rename Id column to userId."
   ]
  },
  {
   "cell_type": "code",
   "execution_count": 41,
   "metadata": {},
   "outputs": [],
   "source": [
    "df_userid.rename(columns={'Id':'userID'},inplace=True)"
   ]
  },
  {
   "cell_type": "markdown",
   "metadata": {},
   "source": [
    "#### 6. Import the posts table. "
   ]
  },
  {
   "cell_type": "code",
   "execution_count": 35,
   "metadata": {},
   "outputs": [],
   "source": [
    "df_posts = pd.read_sql_query('SELECT * FROM stats.posts', engine)"
   ]
  },
  {
   "cell_type": "markdown",
   "metadata": {},
   "source": [
    "#### 7. Rename Id column to postId and OwnerUserId to userId."
   ]
  },
  {
   "cell_type": "code",
   "execution_count": 39,
   "metadata": {},
   "outputs": [
    {
     "data": {
      "text/html": [
       "<div>\n",
       "<style scoped>\n",
       "    .dataframe tbody tr th:only-of-type {\n",
       "        vertical-align: middle;\n",
       "    }\n",
       "\n",
       "    .dataframe tbody tr th {\n",
       "        vertical-align: top;\n",
       "    }\n",
       "\n",
       "    .dataframe thead th {\n",
       "        text-align: right;\n",
       "    }\n",
       "</style>\n",
       "<table border=\"1\" class=\"dataframe\">\n",
       "  <thead>\n",
       "    <tr style=\"text-align: right;\">\n",
       "      <th></th>\n",
       "      <th>postID</th>\n",
       "      <th>PostTypeId</th>\n",
       "      <th>AcceptedAnswerId</th>\n",
       "      <th>CreaionDate</th>\n",
       "      <th>Score</th>\n",
       "      <th>ViewCount</th>\n",
       "      <th>Body</th>\n",
       "      <th>userID</th>\n",
       "      <th>LasActivityDate</th>\n",
       "      <th>Title</th>\n",
       "      <th>...</th>\n",
       "      <th>AnswerCount</th>\n",
       "      <th>CommentCount</th>\n",
       "      <th>FavoriteCount</th>\n",
       "      <th>LastEditorUserId</th>\n",
       "      <th>LastEditDate</th>\n",
       "      <th>CommunityOwnedDate</th>\n",
       "      <th>ParentId</th>\n",
       "      <th>ClosedDate</th>\n",
       "      <th>OwnerDisplayName</th>\n",
       "      <th>LastEditorDisplayName</th>\n",
       "    </tr>\n",
       "  </thead>\n",
       "  <tbody>\n",
       "    <tr>\n",
       "      <td>0</td>\n",
       "      <td>1</td>\n",
       "      <td>1</td>\n",
       "      <td>15.0</td>\n",
       "      <td>2010-07-19 19:12:12</td>\n",
       "      <td>23</td>\n",
       "      <td>1278.0</td>\n",
       "      <td>&lt;p&gt;How should I elicit prior distributions fro...</td>\n",
       "      <td>8.0</td>\n",
       "      <td>2010-09-15 21:08:26</td>\n",
       "      <td>Eliciting priors from experts</td>\n",
       "      <td>...</td>\n",
       "      <td>5.0</td>\n",
       "      <td>1</td>\n",
       "      <td>14.0</td>\n",
       "      <td>NaN</td>\n",
       "      <td>NaT</td>\n",
       "      <td>NaT</td>\n",
       "      <td>NaN</td>\n",
       "      <td>NaT</td>\n",
       "      <td>None</td>\n",
       "      <td>None</td>\n",
       "    </tr>\n",
       "    <tr>\n",
       "      <td>1</td>\n",
       "      <td>2</td>\n",
       "      <td>1</td>\n",
       "      <td>59.0</td>\n",
       "      <td>2010-07-19 19:12:57</td>\n",
       "      <td>22</td>\n",
       "      <td>8198.0</td>\n",
       "      <td>&lt;p&gt;In many different statistical methods there...</td>\n",
       "      <td>24.0</td>\n",
       "      <td>2012-11-12 09:21:54</td>\n",
       "      <td>What is normality?</td>\n",
       "      <td>...</td>\n",
       "      <td>7.0</td>\n",
       "      <td>1</td>\n",
       "      <td>8.0</td>\n",
       "      <td>88.0</td>\n",
       "      <td>2010-08-07 17:56:44</td>\n",
       "      <td>NaT</td>\n",
       "      <td>NaN</td>\n",
       "      <td>NaT</td>\n",
       "      <td>None</td>\n",
       "      <td>None</td>\n",
       "    </tr>\n",
       "    <tr>\n",
       "      <td>2</td>\n",
       "      <td>3</td>\n",
       "      <td>1</td>\n",
       "      <td>5.0</td>\n",
       "      <td>2010-07-19 19:13:28</td>\n",
       "      <td>54</td>\n",
       "      <td>3613.0</td>\n",
       "      <td>&lt;p&gt;What are some valuable Statistical Analysis...</td>\n",
       "      <td>18.0</td>\n",
       "      <td>2013-05-27 14:48:36</td>\n",
       "      <td>What are some valuable Statistical Analysis op...</td>\n",
       "      <td>...</td>\n",
       "      <td>19.0</td>\n",
       "      <td>4</td>\n",
       "      <td>36.0</td>\n",
       "      <td>183.0</td>\n",
       "      <td>2011-02-12 05:50:03</td>\n",
       "      <td>2010-07-19 19:13:28</td>\n",
       "      <td>NaN</td>\n",
       "      <td>NaT</td>\n",
       "      <td>None</td>\n",
       "      <td>None</td>\n",
       "    </tr>\n",
       "    <tr>\n",
       "      <td>3</td>\n",
       "      <td>4</td>\n",
       "      <td>1</td>\n",
       "      <td>135.0</td>\n",
       "      <td>2010-07-19 19:13:31</td>\n",
       "      <td>13</td>\n",
       "      <td>5224.0</td>\n",
       "      <td>&lt;p&gt;I have two groups of data.  Each with a dif...</td>\n",
       "      <td>23.0</td>\n",
       "      <td>2010-09-08 03:00:19</td>\n",
       "      <td>Assessing the significance of differences in d...</td>\n",
       "      <td>...</td>\n",
       "      <td>5.0</td>\n",
       "      <td>2</td>\n",
       "      <td>2.0</td>\n",
       "      <td>NaN</td>\n",
       "      <td>NaT</td>\n",
       "      <td>NaT</td>\n",
       "      <td>NaN</td>\n",
       "      <td>NaT</td>\n",
       "      <td>None</td>\n",
       "      <td>None</td>\n",
       "    </tr>\n",
       "    <tr>\n",
       "      <td>4</td>\n",
       "      <td>5</td>\n",
       "      <td>2</td>\n",
       "      <td>NaN</td>\n",
       "      <td>2010-07-19 19:14:43</td>\n",
       "      <td>81</td>\n",
       "      <td>NaN</td>\n",
       "      <td>&lt;p&gt;The R-project&lt;/p&gt;\\n\\n&lt;p&gt;&lt;a href=\"http://www...</td>\n",
       "      <td>23.0</td>\n",
       "      <td>2010-07-19 19:21:15</td>\n",
       "      <td>None</td>\n",
       "      <td>...</td>\n",
       "      <td>NaN</td>\n",
       "      <td>3</td>\n",
       "      <td>NaN</td>\n",
       "      <td>23.0</td>\n",
       "      <td>2010-07-19 19:21:15</td>\n",
       "      <td>2010-07-19 19:14:43</td>\n",
       "      <td>3.0</td>\n",
       "      <td>NaT</td>\n",
       "      <td>None</td>\n",
       "      <td>None</td>\n",
       "    </tr>\n",
       "  </tbody>\n",
       "</table>\n",
       "<p>5 rows × 21 columns</p>\n",
       "</div>"
      ],
      "text/plain": [
       "   postID  PostTypeId  AcceptedAnswerId         CreaionDate  Score  ViewCount  \\\n",
       "0       1           1              15.0 2010-07-19 19:12:12     23     1278.0   \n",
       "1       2           1              59.0 2010-07-19 19:12:57     22     8198.0   \n",
       "2       3           1               5.0 2010-07-19 19:13:28     54     3613.0   \n",
       "3       4           1             135.0 2010-07-19 19:13:31     13     5224.0   \n",
       "4       5           2               NaN 2010-07-19 19:14:43     81        NaN   \n",
       "\n",
       "                                                Body  userID  \\\n",
       "0  <p>How should I elicit prior distributions fro...     8.0   \n",
       "1  <p>In many different statistical methods there...    24.0   \n",
       "2  <p>What are some valuable Statistical Analysis...    18.0   \n",
       "3  <p>I have two groups of data.  Each with a dif...    23.0   \n",
       "4  <p>The R-project</p>\\n\\n<p><a href=\"http://www...    23.0   \n",
       "\n",
       "      LasActivityDate                                              Title  ...  \\\n",
       "0 2010-09-15 21:08:26                      Eliciting priors from experts  ...   \n",
       "1 2012-11-12 09:21:54                                 What is normality?  ...   \n",
       "2 2013-05-27 14:48:36  What are some valuable Statistical Analysis op...  ...   \n",
       "3 2010-09-08 03:00:19  Assessing the significance of differences in d...  ...   \n",
       "4 2010-07-19 19:21:15                                               None  ...   \n",
       "\n",
       "  AnswerCount  CommentCount  FavoriteCount  LastEditorUserId  \\\n",
       "0         5.0             1           14.0               NaN   \n",
       "1         7.0             1            8.0              88.0   \n",
       "2        19.0             4           36.0             183.0   \n",
       "3         5.0             2            2.0               NaN   \n",
       "4         NaN             3            NaN              23.0   \n",
       "\n",
       "         LastEditDate  CommunityOwnedDate ParentId  ClosedDate  \\\n",
       "0                 NaT                 NaT      NaN         NaT   \n",
       "1 2010-08-07 17:56:44                 NaT      NaN         NaT   \n",
       "2 2011-02-12 05:50:03 2010-07-19 19:13:28      NaN         NaT   \n",
       "3                 NaT                 NaT      NaN         NaT   \n",
       "4 2010-07-19 19:21:15 2010-07-19 19:14:43      3.0         NaT   \n",
       "\n",
       "  OwnerDisplayName LastEditorDisplayName  \n",
       "0             None                  None  \n",
       "1             None                  None  \n",
       "2             None                  None  \n",
       "3             None                  None  \n",
       "4             None                  None  \n",
       "\n",
       "[5 rows x 21 columns]"
      ]
     },
     "execution_count": 39,
     "metadata": {},
     "output_type": "execute_result"
    }
   ],
   "source": [
    "df_posts.rename(columns={'Id':'postID','OwnerUserId':'userID'},inplace=True)\n",
    "df_posts.head()"
   ]
  },
  {
   "cell_type": "markdown",
   "metadata": {},
   "source": [
    "#### 8. Define new dataframes for users and posts with the following selected columns:\n",
    "**users columns**: userId, Reputation, Views, UpVotes, DownVotes  \n",
    "**posts columns**: postId, Score, userID, ViewCount, CommentCount"
   ]
  },
  {
   "cell_type": "code",
   "execution_count": 42,
   "metadata": {},
   "outputs": [],
   "source": [
    "df_users2 = df_userid[['userID', 'Reputation', 'Views', 'UpVotes', 'DownVotes']]\n",
    "df_posts2 = df_posts[['postID', 'Score', 'userID', 'ViewCount', 'CommentCount']]"
   ]
  },
  {
   "cell_type": "markdown",
   "metadata": {},
   "source": [
    "#### 9. Merge the new dataframes you have created, of users and posts. \n",
    "You will need to make an inner [merge](https://pandas.pydata.org/pandas-docs/stable/generated/pandas.DataFrame.merge.html) of posts and users dataframes."
   ]
  },
  {
   "cell_type": "code",
   "execution_count": 45,
   "metadata": {},
   "outputs": [
    {
     "data": {
      "text/html": [
       "<div>\n",
       "<style scoped>\n",
       "    .dataframe tbody tr th:only-of-type {\n",
       "        vertical-align: middle;\n",
       "    }\n",
       "\n",
       "    .dataframe tbody tr th {\n",
       "        vertical-align: top;\n",
       "    }\n",
       "\n",
       "    .dataframe thead th {\n",
       "        text-align: right;\n",
       "    }\n",
       "</style>\n",
       "<table border=\"1\" class=\"dataframe\">\n",
       "  <thead>\n",
       "    <tr style=\"text-align: right;\">\n",
       "      <th></th>\n",
       "      <th>userID</th>\n",
       "      <th>Reputation</th>\n",
       "      <th>Views</th>\n",
       "      <th>UpVotes</th>\n",
       "      <th>DownVotes</th>\n",
       "      <th>postID</th>\n",
       "      <th>Score</th>\n",
       "      <th>ViewCount</th>\n",
       "      <th>CommentCount</th>\n",
       "    </tr>\n",
       "  </thead>\n",
       "  <tbody>\n",
       "    <tr>\n",
       "      <td>0</td>\n",
       "      <td>-1</td>\n",
       "      <td>1</td>\n",
       "      <td>0</td>\n",
       "      <td>5007</td>\n",
       "      <td>1920</td>\n",
       "      <td>2175</td>\n",
       "      <td>0</td>\n",
       "      <td>NaN</td>\n",
       "      <td>0</td>\n",
       "    </tr>\n",
       "    <tr>\n",
       "      <td>1</td>\n",
       "      <td>-1</td>\n",
       "      <td>1</td>\n",
       "      <td>0</td>\n",
       "      <td>5007</td>\n",
       "      <td>1920</td>\n",
       "      <td>8576</td>\n",
       "      <td>0</td>\n",
       "      <td>NaN</td>\n",
       "      <td>0</td>\n",
       "    </tr>\n",
       "    <tr>\n",
       "      <td>2</td>\n",
       "      <td>-1</td>\n",
       "      <td>1</td>\n",
       "      <td>0</td>\n",
       "      <td>5007</td>\n",
       "      <td>1920</td>\n",
       "      <td>8578</td>\n",
       "      <td>0</td>\n",
       "      <td>NaN</td>\n",
       "      <td>0</td>\n",
       "    </tr>\n",
       "    <tr>\n",
       "      <td>3</td>\n",
       "      <td>-1</td>\n",
       "      <td>1</td>\n",
       "      <td>0</td>\n",
       "      <td>5007</td>\n",
       "      <td>1920</td>\n",
       "      <td>8981</td>\n",
       "      <td>0</td>\n",
       "      <td>NaN</td>\n",
       "      <td>0</td>\n",
       "    </tr>\n",
       "    <tr>\n",
       "      <td>4</td>\n",
       "      <td>-1</td>\n",
       "      <td>1</td>\n",
       "      <td>0</td>\n",
       "      <td>5007</td>\n",
       "      <td>1920</td>\n",
       "      <td>8982</td>\n",
       "      <td>0</td>\n",
       "      <td>NaN</td>\n",
       "      <td>0</td>\n",
       "    </tr>\n",
       "  </tbody>\n",
       "</table>\n",
       "</div>"
      ],
      "text/plain": [
       "   userID  Reputation  Views  UpVotes  DownVotes  postID  Score  ViewCount  \\\n",
       "0      -1           1      0     5007       1920    2175      0        NaN   \n",
       "1      -1           1      0     5007       1920    8576      0        NaN   \n",
       "2      -1           1      0     5007       1920    8578      0        NaN   \n",
       "3      -1           1      0     5007       1920    8981      0        NaN   \n",
       "4      -1           1      0     5007       1920    8982      0        NaN   \n",
       "\n",
       "   CommentCount  \n",
       "0             0  \n",
       "1             0  \n",
       "2             0  \n",
       "3             0  \n",
       "4             0  "
      ]
     },
     "execution_count": 45,
     "metadata": {},
     "output_type": "execute_result"
    }
   ],
   "source": [
    "dfs = df_users2.merge(df_posts2,how='inner',on='userID')\n",
    "dfs.head()"
   ]
  },
  {
   "cell_type": "markdown",
   "metadata": {},
   "source": [
    "#### 10. How many missing values do you have in your merged dataframe? On which columns?"
   ]
  },
  {
   "cell_type": "code",
   "execution_count": 47,
   "metadata": {},
   "outputs": [
    {
     "data": {
      "text/plain": [
       "userID              0\n",
       "Reputation          0\n",
       "Views               0\n",
       "UpVotes             0\n",
       "DownVotes           0\n",
       "postID              0\n",
       "Score               0\n",
       "ViewCount       48396\n",
       "CommentCount        0\n",
       "dtype: int64"
      ]
     },
     "execution_count": 47,
     "metadata": {},
     "output_type": "execute_result"
    }
   ],
   "source": [
    "dfs.isna().sum()"
   ]
  },
  {
   "cell_type": "markdown",
   "metadata": {},
   "source": [
    "#### 11. You will need to make something with missing values.  Will you clean or filling them? Explain. \n",
    "**Remember** to check the results of your code before going to the next step."
   ]
  },
  {
   "cell_type": "code",
   "execution_count": 49,
   "metadata": {},
   "outputs": [
    {
     "data": {
      "text/plain": [
       "3654"
      ]
     },
     "execution_count": 49,
     "metadata": {},
     "output_type": "execute_result"
    }
   ],
   "source": [
    "dfs.ViewCount.nunique()"
   ]
  },
  {
   "cell_type": "code",
   "execution_count": 56,
   "metadata": {},
   "outputs": [
    {
     "data": {
      "text/plain": [
       "5959"
      ]
     },
     "execution_count": 56,
     "metadata": {},
     "output_type": "execute_result"
    }
   ],
   "source": [
    "dfs[dfs.ViewCount.isna()].userID.nunique()"
   ]
  },
  {
   "cell_type": "code",
   "execution_count": 60,
   "metadata": {},
   "outputs": [],
   "source": [
    "dfs[dfs.ViewCount.isna()].userID\n",
    "# droping rows that have userID == -1 (flag for internal use userid)\n",
    "dfs.drop(dfs[dfs.userID==-1].index,inplace=True)"
   ]
  },
  {
   "cell_type": "code",
   "execution_count": 61,
   "metadata": {},
   "outputs": [
    {
     "data": {
      "text/plain": [
       "805      1712\n",
       "686      1567\n",
       "919      1200\n",
       "11032     954\n",
       "7290      821\n",
       "         ... \n",
       "9001        1\n",
       "32504       1\n",
       "31522       1\n",
       "30489       1\n",
       "35515       1\n",
       "Name: userID, Length: 5958, dtype: int64"
      ]
     },
     "execution_count": 61,
     "metadata": {},
     "output_type": "execute_result"
    }
   ],
   "source": [
    "# calculate the number of posts per user without viewcount\n",
    "dfs[dfs.ViewCount.isna()].userID.value_counts()"
   ]
  },
  {
   "cell_type": "code",
   "execution_count": 62,
   "metadata": {},
   "outputs": [
    {
     "data": {
      "text/html": [
       "<div>\n",
       "<style scoped>\n",
       "    .dataframe tbody tr th:only-of-type {\n",
       "        vertical-align: middle;\n",
       "    }\n",
       "\n",
       "    .dataframe tbody tr th {\n",
       "        vertical-align: top;\n",
       "    }\n",
       "\n",
       "    .dataframe thead th {\n",
       "        text-align: right;\n",
       "    }\n",
       "</style>\n",
       "<table border=\"1\" class=\"dataframe\">\n",
       "  <thead>\n",
       "    <tr style=\"text-align: right;\">\n",
       "      <th></th>\n",
       "      <th>userID</th>\n",
       "      <th>Reputation</th>\n",
       "      <th>Views</th>\n",
       "      <th>UpVotes</th>\n",
       "      <th>DownVotes</th>\n",
       "      <th>postID</th>\n",
       "      <th>Score</th>\n",
       "      <th>ViewCount</th>\n",
       "      <th>CommentCount</th>\n",
       "    </tr>\n",
       "  </thead>\n",
       "  <tbody>\n",
       "    <tr>\n",
       "      <td>8724</td>\n",
       "      <td>805</td>\n",
       "      <td>65272</td>\n",
       "      <td>5680</td>\n",
       "      <td>7035</td>\n",
       "      <td>143</td>\n",
       "      <td>1425</td>\n",
       "      <td>11</td>\n",
       "      <td>NaN</td>\n",
       "      <td>3</td>\n",
       "    </tr>\n",
       "    <tr>\n",
       "      <td>8725</td>\n",
       "      <td>805</td>\n",
       "      <td>65272</td>\n",
       "      <td>5680</td>\n",
       "      <td>7035</td>\n",
       "      <td>143</td>\n",
       "      <td>1723</td>\n",
       "      <td>8</td>\n",
       "      <td>NaN</td>\n",
       "      <td>4</td>\n",
       "    </tr>\n",
       "    <tr>\n",
       "      <td>8726</td>\n",
       "      <td>805</td>\n",
       "      <td>65272</td>\n",
       "      <td>5680</td>\n",
       "      <td>7035</td>\n",
       "      <td>143</td>\n",
       "      <td>1724</td>\n",
       "      <td>5</td>\n",
       "      <td>NaN</td>\n",
       "      <td>0</td>\n",
       "    </tr>\n",
       "    <tr>\n",
       "      <td>8727</td>\n",
       "      <td>805</td>\n",
       "      <td>65272</td>\n",
       "      <td>5680</td>\n",
       "      <td>7035</td>\n",
       "      <td>143</td>\n",
       "      <td>2434</td>\n",
       "      <td>2</td>\n",
       "      <td>NaN</td>\n",
       "      <td>4</td>\n",
       "    </tr>\n",
       "    <tr>\n",
       "      <td>8728</td>\n",
       "      <td>805</td>\n",
       "      <td>65272</td>\n",
       "      <td>5680</td>\n",
       "      <td>7035</td>\n",
       "      <td>143</td>\n",
       "      <td>2589</td>\n",
       "      <td>2</td>\n",
       "      <td>NaN</td>\n",
       "      <td>0</td>\n",
       "    </tr>\n",
       "    <tr>\n",
       "      <td>...</td>\n",
       "      <td>...</td>\n",
       "      <td>...</td>\n",
       "      <td>...</td>\n",
       "      <td>...</td>\n",
       "      <td>...</td>\n",
       "      <td>...</td>\n",
       "      <td>...</td>\n",
       "      <td>...</td>\n",
       "      <td>...</td>\n",
       "    </tr>\n",
       "    <tr>\n",
       "      <td>10439</td>\n",
       "      <td>805</td>\n",
       "      <td>65272</td>\n",
       "      <td>5680</td>\n",
       "      <td>7035</td>\n",
       "      <td>143</td>\n",
       "      <td>115332</td>\n",
       "      <td>1</td>\n",
       "      <td>NaN</td>\n",
       "      <td>0</td>\n",
       "    </tr>\n",
       "    <tr>\n",
       "      <td>10440</td>\n",
       "      <td>805</td>\n",
       "      <td>65272</td>\n",
       "      <td>5680</td>\n",
       "      <td>7035</td>\n",
       "      <td>143</td>\n",
       "      <td>115337</td>\n",
       "      <td>1</td>\n",
       "      <td>NaN</td>\n",
       "      <td>0</td>\n",
       "    </tr>\n",
       "    <tr>\n",
       "      <td>10441</td>\n",
       "      <td>805</td>\n",
       "      <td>65272</td>\n",
       "      <td>5680</td>\n",
       "      <td>7035</td>\n",
       "      <td>143</td>\n",
       "      <td>115354</td>\n",
       "      <td>2</td>\n",
       "      <td>NaN</td>\n",
       "      <td>0</td>\n",
       "    </tr>\n",
       "    <tr>\n",
       "      <td>10442</td>\n",
       "      <td>805</td>\n",
       "      <td>65272</td>\n",
       "      <td>5680</td>\n",
       "      <td>7035</td>\n",
       "      <td>143</td>\n",
       "      <td>115374</td>\n",
       "      <td>2</td>\n",
       "      <td>NaN</td>\n",
       "      <td>2</td>\n",
       "    </tr>\n",
       "    <tr>\n",
       "      <td>10443</td>\n",
       "      <td>805</td>\n",
       "      <td>65272</td>\n",
       "      <td>5680</td>\n",
       "      <td>7035</td>\n",
       "      <td>143</td>\n",
       "      <td>115377</td>\n",
       "      <td>0</td>\n",
       "      <td>NaN</td>\n",
       "      <td>0</td>\n",
       "    </tr>\n",
       "  </tbody>\n",
       "</table>\n",
       "<p>1720 rows × 9 columns</p>\n",
       "</div>"
      ],
      "text/plain": [
       "       userID  Reputation  Views  UpVotes  DownVotes  postID  Score  \\\n",
       "8724      805       65272   5680     7035        143    1425     11   \n",
       "8725      805       65272   5680     7035        143    1723      8   \n",
       "8726      805       65272   5680     7035        143    1724      5   \n",
       "8727      805       65272   5680     7035        143    2434      2   \n",
       "8728      805       65272   5680     7035        143    2589      2   \n",
       "...       ...         ...    ...      ...        ...     ...    ...   \n",
       "10439     805       65272   5680     7035        143  115332      1   \n",
       "10440     805       65272   5680     7035        143  115337      1   \n",
       "10441     805       65272   5680     7035        143  115354      2   \n",
       "10442     805       65272   5680     7035        143  115374      2   \n",
       "10443     805       65272   5680     7035        143  115377      0   \n",
       "\n",
       "       ViewCount  CommentCount  \n",
       "8724         NaN             3  \n",
       "8725         NaN             4  \n",
       "8726         NaN             0  \n",
       "8727         NaN             4  \n",
       "8728         NaN             0  \n",
       "...          ...           ...  \n",
       "10439        NaN             0  \n",
       "10440        NaN             0  \n",
       "10441        NaN             0  \n",
       "10442        NaN             2  \n",
       "10443        NaN             0  \n",
       "\n",
       "[1720 rows x 9 columns]"
      ]
     },
     "execution_count": 62,
     "metadata": {},
     "output_type": "execute_result"
    }
   ],
   "source": [
    "dfs[dfs.userID==805]"
   ]
  },
  {
   "cell_type": "code",
   "execution_count": 69,
   "metadata": {},
   "outputs": [
    {
     "data": {
      "text/plain": [
       "805      1720\n",
       "686      1598\n",
       "919      1204\n",
       "11032     966\n",
       "7290      827\n",
       "         ... \n",
       "53048       1\n",
       "42805       1\n",
       "34609       1\n",
       "32558       1\n",
       "10654       1\n",
       "Name: userID, Length: 21982, dtype: int64"
      ]
     },
     "execution_count": 69,
     "metadata": {},
     "output_type": "execute_result"
    }
   ],
   "source": [
    "# replacing nan for 0 and creating a dummy value column where nan == 1\n",
    "dfs.userID.value_counts()"
   ]
  },
  {
   "cell_type": "markdown",
   "metadata": {},
   "source": [
    "# Using dummies"
   ]
  },
  {
   "cell_type": "code",
   "execution_count": 71,
   "metadata": {},
   "outputs": [],
   "source": [
    "dfs['was_missing'] = dfs.ViewCount.isna().astype(int)"
   ]
  },
  {
   "cell_type": "code",
   "execution_count": 75,
   "metadata": {},
   "outputs": [
    {
     "data": {
      "text/plain": [
       "<matplotlib.axes._subplots.AxesSubplot at 0x1abc17cecc8>"
      ]
     },
     "execution_count": 75,
     "metadata": {},
     "output_type": "execute_result"
    },
    {
     "data": {
      "image/png": "[encoded data removed]",
      "text/plain": [
       "<Figure size 432x288 with 1 Axes>"
      ]
     },
     "metadata": {
      "needs_background": "light"
     },
     "output_type": "display_data"
    }
   ],
   "source": [
    "dfs.ViewCount.hist(bins=10)"
   ]
  },
  {
   "cell_type": "code",
   "execution_count": 76,
   "metadata": {},
   "outputs": [],
   "source": [
    "dfs.ViewCount=dfs.ViewCount.fillna(0)"
   ]
  },
  {
   "cell_type": "code",
   "execution_count": 77,
   "metadata": {},
   "outputs": [
    {
     "data": {
      "text/plain": [
       "<matplotlib.axes._subplots.AxesSubplot at 0x1abbc6ea208>"
      ]
     },
     "execution_count": 77,
     "metadata": {},
     "output_type": "execute_result"
    },
    {
     "data": {
      "image/png": "[encoded data removed]",
      "text/plain": [
       "<Figure size 432x288 with 1 Axes>"
      ]
     },
     "metadata": {
      "needs_background": "light"
     },
     "output_type": "display_data"
    }
   ],
   "source": [
    "dfs.ViewCount.hist(bins=10)"
   ]
  },
  {
   "cell_type": "code",
   "execution_count": 79,
   "metadata": {},
   "outputs": [
    {
     "data": {
      "text/html": [
       "<div>\n",
       "<style scoped>\n",
       "    .dataframe tbody tr th:only-of-type {\n",
       "        vertical-align: middle;\n",
       "    }\n",
       "\n",
       "    .dataframe tbody tr th {\n",
       "        vertical-align: top;\n",
       "    }\n",
       "\n",
       "    .dataframe thead th {\n",
       "        text-align: right;\n",
       "    }\n",
       "</style>\n",
       "<table border=\"1\" class=\"dataframe\">\n",
       "  <thead>\n",
       "    <tr style=\"text-align: right;\">\n",
       "      <th></th>\n",
       "      <th>userID</th>\n",
       "      <th>Reputation</th>\n",
       "      <th>Views</th>\n",
       "      <th>UpVotes</th>\n",
       "      <th>DownVotes</th>\n",
       "      <th>postID</th>\n",
       "      <th>Score</th>\n",
       "      <th>ViewCount</th>\n",
       "      <th>CommentCount</th>\n",
       "      <th>was_missing</th>\n",
       "    </tr>\n",
       "  </thead>\n",
       "  <tbody>\n",
       "    <tr>\n",
       "      <td>count</td>\n",
       "      <td>90373.000000</td>\n",
       "      <td>90373.000000</td>\n",
       "      <td>90373.000000</td>\n",
       "      <td>90373.000000</td>\n",
       "      <td>90373.00000</td>\n",
       "      <td>90373.000000</td>\n",
       "      <td>90373.000000</td>\n",
       "      <td>90373.000000</td>\n",
       "      <td>90373.000000</td>\n",
       "      <td>90373.000000</td>\n",
       "    </tr>\n",
       "    <tr>\n",
       "      <td>mean</td>\n",
       "      <td>16585.399920</td>\n",
       "      <td>6297.061014</td>\n",
       "      <td>1036.659898</td>\n",
       "      <td>724.339991</td>\n",
       "      <td>28.86818</td>\n",
       "      <td>56558.789019</td>\n",
       "      <td>2.787259</td>\n",
       "      <td>259.858697</td>\n",
       "      <td>1.899074</td>\n",
       "      <td>0.533179</td>\n",
       "    </tr>\n",
       "    <tr>\n",
       "      <td>std</td>\n",
       "      <td>15270.218327</td>\n",
       "      <td>15116.834946</td>\n",
       "      <td>2883.000130</td>\n",
       "      <td>2042.831900</td>\n",
       "      <td>99.59766</td>\n",
       "      <td>33856.925790</td>\n",
       "      <td>4.952869</td>\n",
       "      <td>1634.117664</td>\n",
       "      <td>2.640192</td>\n",
       "      <td>0.498901</td>\n",
       "    </tr>\n",
       "    <tr>\n",
       "      <td>min</td>\n",
       "      <td>5.000000</td>\n",
       "      <td>1.000000</td>\n",
       "      <td>0.000000</td>\n",
       "      <td>0.000000</td>\n",
       "      <td>0.00000</td>\n",
       "      <td>1.000000</td>\n",
       "      <td>-19.000000</td>\n",
       "      <td>0.000000</td>\n",
       "      <td>0.000000</td>\n",
       "      <td>0.000000</td>\n",
       "    </tr>\n",
       "    <tr>\n",
       "      <td>25%</td>\n",
       "      <td>3488.000000</td>\n",
       "      <td>61.000000</td>\n",
       "      <td>5.000000</td>\n",
       "      <td>1.000000</td>\n",
       "      <td>0.00000</td>\n",
       "      <td>26034.000000</td>\n",
       "      <td>1.000000</td>\n",
       "      <td>0.000000</td>\n",
       "      <td>0.000000</td>\n",
       "      <td>0.000000</td>\n",
       "    </tr>\n",
       "    <tr>\n",
       "      <td>50%</td>\n",
       "      <td>11075.000000</td>\n",
       "      <td>401.000000</td>\n",
       "      <td>46.000000</td>\n",
       "      <td>22.000000</td>\n",
       "      <td>0.00000</td>\n",
       "      <td>57266.000000</td>\n",
       "      <td>2.000000</td>\n",
       "      <td>0.000000</td>\n",
       "      <td>1.000000</td>\n",
       "      <td>1.000000</td>\n",
       "    </tr>\n",
       "    <tr>\n",
       "      <td>75%</td>\n",
       "      <td>27765.000000</td>\n",
       "      <td>4460.000000</td>\n",
       "      <td>515.000000</td>\n",
       "      <td>283.000000</td>\n",
       "      <td>8.00000</td>\n",
       "      <td>86184.000000</td>\n",
       "      <td>3.000000</td>\n",
       "      <td>112.000000</td>\n",
       "      <td>3.000000</td>\n",
       "      <td>1.000000</td>\n",
       "    </tr>\n",
       "    <tr>\n",
       "      <td>max</td>\n",
       "      <td>55746.000000</td>\n",
       "      <td>87393.000000</td>\n",
       "      <td>20932.000000</td>\n",
       "      <td>11442.000000</td>\n",
       "      <td>779.00000</td>\n",
       "      <td>115378.000000</td>\n",
       "      <td>192.000000</td>\n",
       "      <td>175495.000000</td>\n",
       "      <td>45.000000</td>\n",
       "      <td>1.000000</td>\n",
       "    </tr>\n",
       "  </tbody>\n",
       "</table>\n",
       "</div>"
      ],
      "text/plain": [
       "             userID    Reputation         Views       UpVotes    DownVotes  \\\n",
       "count  90373.000000  90373.000000  90373.000000  90373.000000  90373.00000   \n",
       "mean   16585.399920   6297.061014   1036.659898    724.339991     28.86818   \n",
       "std    15270.218327  15116.834946   2883.000130   2042.831900     99.59766   \n",
       "min        5.000000      1.000000      0.000000      0.000000      0.00000   \n",
       "25%     3488.000000     61.000000      5.000000      1.000000      0.00000   \n",
       "50%    11075.000000    401.000000     46.000000     22.000000      0.00000   \n",
       "75%    27765.000000   4460.000000    515.000000    283.000000      8.00000   \n",
       "max    55746.000000  87393.000000  20932.000000  11442.000000    779.00000   \n",
       "\n",
       "              postID         Score      ViewCount  CommentCount   was_missing  \n",
       "count   90373.000000  90373.000000   90373.000000  90373.000000  90373.000000  \n",
       "mean    56558.789019      2.787259     259.858697      1.899074      0.533179  \n",
       "std     33856.925790      4.952869    1634.117664      2.640192      0.498901  \n",
       "min         1.000000    -19.000000       0.000000      0.000000      0.000000  \n",
       "25%     26034.000000      1.000000       0.000000      0.000000      0.000000  \n",
       "50%     57266.000000      2.000000       0.000000      1.000000      1.000000  \n",
       "75%     86184.000000      3.000000     112.000000      3.000000      1.000000  \n",
       "max    115378.000000    192.000000  175495.000000     45.000000      1.000000  "
      ]
     },
     "execution_count": 79,
     "metadata": {},
     "output_type": "execute_result"
    }
   ],
   "source": [
    "dfs.describe()"
   ]
  },
  {
   "cell_type": "code",
   "execution_count": 82,
   "metadata": {},
   "outputs": [
    {
     "data": {
      "text/plain": [
       "userID            int64\n",
       "Reputation        int64\n",
       "Views             int64\n",
       "UpVotes           int64\n",
       "DownVotes         int64\n",
       "postID            int64\n",
       "Score             int64\n",
       "ViewCount       float64\n",
       "CommentCount      int64\n",
       "was_missing       int32\n",
       "dtype: object"
      ]
     },
     "execution_count": 82,
     "metadata": {},
     "output_type": "execute_result"
    }
   ],
   "source": [
    "dfs.dtypes"
   ]
  },
  {
   "cell_type": "code",
   "execution_count": 83,
   "metadata": {},
   "outputs": [],
   "source": [
    "dfs.ViewCount = dfs.ViewCount.astype(int)"
   ]
  },
  {
   "cell_type": "code",
   "execution_count": null,
   "metadata": {},
   "outputs": [],
   "source": []
  }
 ],
 "metadata": {
  "kernelspec": {
   "display_name": "Python 3",
   "language": "python",
   "name": "python3"
  },
  "language_info": {
   "codemirror_mode": {
    "name": "ipython",
    "version": 3
   },
   "file_extension": ".py",
   "mimetype": "text/x-python",
   "name": "python",
   "nbconvert_exporter": "python",
   "pygments_lexer": "ipython3",
   "version": "3.7.4"
  }
 },
 "nbformat": 4,
 "nbformat_minor": 2
}
